{
  "nbformat": 4,
  "nbformat_minor": 0,
  "metadata": {
    "colab": {
      "name": "Day 1 Session 1 Excercises.ipynb",
      "provenance": [],
      "collapsed_sections": [],
      "authorship_tag": "ABX9TyOya40ew5xwVJNTvHSJ4h2A",
      "include_colab_link": true
    },
    "kernelspec": {
      "name": "python3",
      "display_name": "Python 3"
    }
  },
  "cells": [
    {
      "cell_type": "markdown",
      "metadata": {
        "id": "view-in-github",
        "colab_type": "text"
      },
      "source": [
        "<a href=\"https://colab.research.google.com/github/RachanaShetty9/5-Days-Data-Analytics-and-Machine-Learning-Workshop-Solved-Exercise/blob/master/Day_1_Session_1_Excercises.ipynb\" target=\"_parent\"><img src=\"https://colab.research.google.com/assets/colab-badge.svg\" alt=\"Open In Colab\"/></a>"
      ]
    },
    {
      "cell_type": "markdown",
      "metadata": {
        "id": "gepBJnQlFHeg",
        "colab_type": "text"
      },
      "source": [
        "1.\tFind the compound interest for the given p,n,r  (formula : p(1+n*r/100)n )\n"
      ]
    },
    {
      "cell_type": "code",
      "metadata": {
        "id": "NIUobhN9EMRu",
        "colab_type": "code",
        "colab": {
          "base_uri": "https://localhost:8080/",
          "height": 84
        },
        "outputId": "73da652c-8307-4388-ad1c-f47962bca3aa"
      },
      "source": [
        "import cmath\n",
        "p=int(input(\"Enter p\"))\n",
        "n=int(input(\"Enter n\"))\n",
        "r=int(input(\"Enter r\"))\n",
        "ci=p*(1+n*r/100)**n\n",
        "print(\"Compound Interest is {0}\".format(ci))"
      ],
      "execution_count": 2,
      "outputs": [
        {
          "output_type": "stream",
          "text": [
            "Enter p5\n",
            "Enter n4\n",
            "Enter r2\n",
            "Compound Interest is 6.802444800000002\n"
          ],
          "name": "stdout"
        }
      ]
    },
    {
      "cell_type": "markdown",
      "metadata": {
        "id": "p_jamFAwHY-f",
        "colab_type": "text"
      },
      "source": [
        "2.\tConvert centegrade to farenheit  ( f= 9/5*c+32)"
      ]
    },
    {
      "cell_type": "code",
      "metadata": {
        "id": "qj86PlwtHYYF",
        "colab_type": "code",
        "colab": {
          "base_uri": "https://localhost:8080/",
          "height": 50
        },
        "outputId": "09fb0787-7240-44bd-d075-08281af57117"
      },
      "source": [
        "import cmath\n",
        "c=int(input(\"Enter Celcius\"))\n",
        "f=(9/5)*c+32\n",
        "print('Farenheit value is {0}'.format(f))"
      ],
      "execution_count": 3,
      "outputs": [
        {
          "output_type": "stream",
          "text": [
            "Enter Celcius26\n",
            "Farenheit value is 78.80000000000001\n"
          ],
          "name": "stdout"
        }
      ]
    },
    {
      "cell_type": "markdown",
      "metadata": {
        "id": "zULW4B2SIJDl",
        "colab_type": "text"
      },
      "source": [
        "3.\tFind the greater of two nos "
      ]
    },
    {
      "cell_type": "code",
      "metadata": {
        "id": "OahOQPFtIIuh",
        "colab_type": "code",
        "colab": {
          "base_uri": "https://localhost:8080/",
          "height": 67
        },
        "outputId": "61235209-e69f-4568-9025-ef9545dc2703"
      },
      "source": [
        "a=int(input(\"Enter a\"))\n",
        "b=int(input(\"Enter b\"))\n",
        "print('Greater value is {0}'.format(max(a,b)))"
      ],
      "execution_count": 5,
      "outputs": [
        {
          "output_type": "stream",
          "text": [
            "Enter a5\n",
            "Enter b9\n",
            "Greater value is 9\n"
          ],
          "name": "stdout"
        }
      ]
    },
    {
      "cell_type": "markdown",
      "metadata": {
        "id": "fUlNxxtzJDx0",
        "colab_type": "text"
      },
      "source": [
        "4.\tWrite a program for finding surface areas of cylinder and cone (2*PI*r*r*h, 1/3*PI*r*r*h) using function."
      ]
    },
    {
      "cell_type": "code",
      "metadata": {
        "id": "HxpZUX0SJDUq",
        "colab_type": "code",
        "colab": {
          "base_uri": "https://localhost:8080/",
          "height": 67
        },
        "outputId": "5b59ada1-7012-447f-c736-9af1b7dfd59e"
      },
      "source": [
        "import cmath\n",
        "def sa(r,h):\n",
        "  cyl=2*cmath.pi*r*r*h\n",
        "  cone=(1/3)*cmath.pi*r*r*h\n",
        "  print('Surface area of cylinder and cone are {0} and {1}'.format(cyl,cone))\n",
        "r=int(input(\"Enter r\"))\n",
        "h=int(input(\"Enter h\"))\n",
        "sa(r,h)"
      ],
      "execution_count": 6,
      "outputs": [
        {
          "output_type": "stream",
          "text": [
            "Enter r3\n",
            "Enter h6\n",
            "Surface area of cylinder and cone are 339.29200658769764 and 56.548667764616276\n"
          ],
          "name": "stdout"
        }
      ]
    },
    {
      "cell_type": "markdown",
      "metadata": {
        "id": "388S5YkaMAqx",
        "colab_type": "text"
      },
      "source": [
        "5.\tFind the greatest of four nos ( using ‘and’ operator)   using function."
      ]
    },
    {
      "cell_type": "code",
      "metadata": {
        "id": "XjEj5tO_L_9r",
        "colab_type": "code",
        "colab": {
          "base_uri": "https://localhost:8080/",
          "height": 101
        },
        "outputId": "6184dd0b-49bb-4c08-ca09-a30e91282df2"
      },
      "source": [
        "a=int(input(\"Enter a \"))\n",
        "b=int(input(\"Enter b \"))\n",
        "c=int(input(\"Enter c \"))\n",
        "d=int(input(\"Enter d \"))\n",
        "if a>b and a>c and a>d:\n",
        "  print('a is greater')\n",
        "elif b>a and b>c and b>d:\n",
        "  print('b is greater')\n",
        "elif c>a and c>b and c>d:\n",
        "  print('c is greater')\n",
        "elif bd>a and d>c and d>b:\n",
        "  print('d is greater')"
      ],
      "execution_count": 7,
      "outputs": [
        {
          "output_type": "stream",
          "text": [
            "Enter a 1\n",
            "Enter b 2\n",
            "Enter c 4\n",
            "Enter d 3\n",
            "c is greater\n"
          ],
          "name": "stdout"
        }
      ]
    },
    {
      "cell_type": "markdown",
      "metadata": {
        "id": "F_dYF-QGNPRe",
        "colab_type": "text"
      },
      "source": [
        "6.\tWrite a  menu program to perform the operations ( ODDorEven, Factorial, ODDNoUptoN, PrimeUptoN ) using functions for two nos with  menu choice"
      ]
    },
    {
      "cell_type": "code",
      "metadata": {
        "id": "x0zs7yG_NMCE",
        "colab_type": "code",
        "colab": {
          "base_uri": "https://localhost:8080/",
          "height": 319
        },
        "outputId": "d7b845d3-15ed-480f-f845-17ffce415fda"
      },
      "source": [
        "n=int(input(\"Enter the value of n \"))\n",
        "loop=1\n",
        "def oddoreven(n):\n",
        "  if n%2==0:\n",
        "    print('Number is even')\n",
        "  else:\n",
        "    print('Number is odd')\n",
        "\n",
        "def factorial(n):\n",
        "  if n==0 and n==1:\n",
        "    print(1)\n",
        "  else:\n",
        "    f=n*factorial(n-1)\n",
        "  print(f)\n",
        "\n",
        "def oddnoupton(n):\n",
        "  print([x for x in range(1,n) if x%2==1])\n",
        "\n",
        "while(loop==1):\n",
        "  print('1.Odd or Even')\n",
        "  print('2.Factorial')\n",
        "  print('3.Odd upto n')\n",
        "  print('4.Exit')\n",
        "  ch=int(input(\"Enter your choice\"))\n",
        "  if ch==1:\n",
        "    oddoreven(n)\n",
        "\n",
        "  elif ch==2:\n",
        "    factorial(n)\n",
        "\n",
        "  elif ch==3:\n",
        "    oddnoupton(n)\n",
        "\n",
        "  elif ch==4:\n",
        "    loop=0\n"
      ],
      "execution_count": 15,
      "outputs": [
        {
          "output_type": "stream",
          "text": [
            "Enter the value of n 12\n",
            "1.Odd or Even\n",
            "2.Factorial\n",
            "3.Odd upto n\n",
            "4.Exit\n",
            "Enter your choice1\n",
            "Number is even\n",
            "1.Odd or Even\n",
            "2.Factorial\n",
            "3.Odd upto n\n",
            "4.Exit\n",
            "Enter your choice3\n",
            "[1, 3, 5, 7, 9, 11]\n",
            "1.Odd or Even\n",
            "2.Factorial\n",
            "3.Odd upto n\n",
            "4.Exit\n",
            "Enter your choice4\n"
          ],
          "name": "stdout"
        }
      ]
    }
  ]
}